{
 "cells": [
  {
   "cell_type": "markdown",
   "metadata": {},
   "source": [
    "# Genetic Algorithms Tutorial\n",
    "\n",
    "This is a tutorial to implement a genetic algorithm using continuous numerical data. There are many ways to approach an implementation of a genetic algorithm, from different selection strategies, crossover and mutation operators, etc. but I am focusing on a simple example using the most standard of methods. Feel free to distribute, edit, make changes, improve, etc. this tutorial. If you publish this tutorial elsewhere, please let me know and link back.\n",
    "\n",
    "## Genetic Algorithms\n",
    "\n",
    "Genetic algorithms are a type of artificial intelligence algorithm which has many parallels to biological evolution. The goal of a genetic algorithm is to \"evolve\" some solution to a problem based on how fit that solution is. Over time, a collection of proposed solutions will converge to the real solution to the problem provided the genetic algorithm parameters are suitable.\n",
    "\n",
    "Given an initial random population of solutions to the problem, the most fit solutions are (generally) kept and the remainder are discarded. Then, using genetic operators such as crossover and mutation, a new population is initialized which is comprised of mixtures of the best solutions.\n",
    "\n",
    "There are a few things to consider when designing a genetic algorithm:\n",
    "\n",
    "- what is the search space?\n",
    "- what is the fitness function?\n",
    "- what is the selection strategy?\n",
    "- what are the crossover and mutation operators?\n",
    "- what are the chances of crossover and mutation occurring?\n",
    "\n",
    "The search space being the possible space in which the solution lies, the fitness function being a heuristic to gauge how fit a solution is, and the remainder I'll get to in the implementation.\n",
    "\n",
    "Genetic algorithms are often referred to as metaheuristics, or a procedure which generates a solution to an optimization problem. In this tutorial, I'm effectively optimizing a given function and finding an optima. Metaheuristics can be used problem agnostically and can be applied to anything, really. One interesting way to use genetic algorithms is to train a neural network.\n",
    "\n",
    "Just as a note on terminology: I say \"solution\", \"candidate\" and \"chromosome\" interchangeably. This is just one of the individuals from the population, the attributes of which are used to find the fitness of that individual. The most proper term would be \"chromosome\". A chromosome is comprised of \"genes\"; these are the attributes I had just mentioned.\n",
    "\n",
    "### Pseudocode\n",
    "\n",
    "A typical genetic algorithm may follow the below procedure:\n",
    "\n",
    "```\n",
    "procedure ga() is:\n",
    "  initialize random population p of size n\n",
    "  for each epoch do:\n",
    "    sort p by fitness\n",
    "    select elites e from p\n",
    "    select tournament t from p\n",
    "    sort t by fitness\n",
    "    clear contents of p\n",
    "    initialize empty mating pool m\n",
    "    add e to m and p\n",
    "    add t[0] to m\n",
    "    for i in range 0..(n - m.size)/2 do:\n",
    "      select two random parents p1, p2 from m\n",
    "      initialize empty children c1, c2\n",
    "      c1 := crossover(p1, p2)\n",
    "      c2 := crossover(p1, p2)\n",
    "      mutate(c1)\n",
    "      mutate(c2)\n",
    "      add c1, c2 to p\n",
    "    endfor\n",
    "  endfor\n",
    "endprocedure\n",
    "```\n",
    "\n",
    "## Before you Begin\n",
    "\n",
    "This tutorial uses Python with one dependency which needs to be met:\n",
    "\n",
    "- Python 3.6\n",
    "- GNU/Linux (or WSL, LXSS, etc.)\n",
    "- X11 or alternative\n",
    "- `matplotlib`\n",
    "\n",
    "You can install `matplotlib` using `pip` although it's not entirely necessary to have `matplotlib` and it's only for illustrative purposes for this tutorial.\n",
    "\n",
    "## Defining the Search Space and Fitness Function\n",
    "\n",
    "This tutorial will use a common optimization test problem, the Styblinski-Tang Function, which is defined as:\n",
    "\n",
    "$$f(x) = \\frac{1}{2} \\times \\sum_{i=1}^d (x_i^4 - 16x_i^2 + 5x_i)$$\n",
    "\n",
    "And can be visualized as below (credit to <a href=\"https://www.sfu.ca/~ssurjano/stybtang.html\">the Virtual Library of Simulation Experiments</a>):\n",
    "\n",
    "<img src=\"./images/stybtang.png\"/>\n",
    "\n",
    "This function can be applied to any dimensionality and has a global minima of $f(x^*) = -39.16599\\times d$ at $x^* = (-2.903534, ..., -2.903534)$. For this tutorial, I'll be using a dimensionality of two to best visualize on a 2D plot. From the function, the global minimum in two dimensions is $-39.16599 \\times 2 = -78.33198$. \n",
    "\n",
    "We have the fitness function, what about the search space? The interval in which our points will lay is $[-5, 5]$ as per the source above. We'll use this information to also generate a population later: we want to initialize a random population within the boundaries of the search space. Points in our system will be described as arrays of length `d`, where `d` is the dimensionality of the problem--in this case, two.\n",
    "\n",
    "We'll define the search space and fitness function now:"
   ]
  },
  {
   "cell_type": "code",
   "execution_count": 1,
   "metadata": {},
   "outputs": [],
   "source": [
    "SEARCH_MIN = -5.00 # minimum in search space\n",
    "SEARCH_MAX = 5.00 # maximum in search space\n",
    "DIMENSIONS = 2 # dimensionality of the problem\n",
    "\n",
    "def styb_tang(point):\n",
    "    \"\"\"GA fitness function.\n",
    "    Uses Styblinski-Tang Function in d dimensions.\n",
    "    \n",
    "    Parameters:\n",
    "        point : a point in d-space.\n",
    "    \n",
    "    Returns:\n",
    "        The fitness of that point.\n",
    "    \"\"\"\n",
    "    summ = 0\n",
    "    for d in point:\n",
    "        summ += d**4 - (16 * d**2) + (5 * d)\n",
    "    return (1 / 2) * summ"
   ]
  },
  {
   "cell_type": "markdown",
   "metadata": {},
   "source": [
    "Just to verify the function is working as intended, we'll generate a \"perfect point\" with the known optimal position and evaluate its fitness:"
   ]
  },
  {
   "cell_type": "code",
   "execution_count": 2,
   "metadata": {},
   "outputs": [
    {
     "name": "stdout",
     "output_type": "stream",
     "text": [
      "-78.3323314075428\n"
     ]
    }
   ],
   "source": [
    "OPTIMAL_POINT = [-2.903534, -2.903534]\n",
    "print(styb_tang(OPTIMAL_POINT))"
   ]
  },
  {
   "cell_type": "markdown",
   "metadata": {},
   "source": [
    "This is not exact but $-78.33233 \\approx -78.33198$ so it's close enough for our purposes. We know our global minima is around this point. We've initialized this as a global variable because we want to see where the minima is in our plots.\n",
    "\n",
    "## Population Initialization\n",
    "\n",
    "For our genetic algorithm to work, we need to first initialize a random population of candidate solutions to the problem. Since we're optimizing a mathematical function in two dimensions, a candidate solution is simply any x,y-coordinate pair. For example, our optimal pair was `(-2.903534, -2.903534)`. The key point, however, is the candidate solutions are random initially. \n",
    "\n",
    "We can generate a population like the below, using a population size of `200` since this is a relatively trivial problem:"
   ]
  },
  {
   "cell_type": "code",
   "execution_count": 3,
   "metadata": {},
   "outputs": [],
   "source": [
    "import random\n",
    "\n",
    "POP_SIZE = 200 # the population size\n",
    "\n",
    "def initialize_population(size, dim, min, max):\n",
    "    \"\"\"Initializes a random population.\n",
    "    \n",
    "    Parameters:\n",
    "        size : the size of the population.\n",
    "        dim : the dimensionality of the problem\n",
    "        min : the minimum in a dimension for the search space.\n",
    "        max : a maximum in a dimension for the search space.\n",
    "    \n",
    "    Returns:\n",
    "        A random population of that many points within the bounds of the space.\n",
    "    \"\"\"\n",
    "    population = [] # population stored as a list\n",
    "    for _ in range(size): # for the size of the population\n",
    "        point = [] # point as well as a list\n",
    "        for _ in range(dim): # to fill each axes\n",
    "            # generate a random position for that axes\n",
    "            point.append(random.uniform(min, max))\n",
    "        population.append(point) # add to population\n",
    "    return population\n",
    "\n",
    "POPULATION = initialize_population(POP_SIZE, DIMENSIONS, SEARCH_MIN, SEARCH_MAX)"
   ]
  },
  {
   "cell_type": "markdown",
   "metadata": {},
   "source": [
    "Just to verify, we'll print out a few candidate solutions to ensure they were initialized properly within the correct range:"
   ]
  },
  {
   "cell_type": "code",
   "execution_count": 4,
   "metadata": {},
   "outputs": [
    {
     "name": "stdout",
     "output_type": "stream",
     "text": [
      "[-0.6530169548693934, -4.6814721616989665]\n",
      "[4.168075810739895, 1.4204781130183894]\n",
      "[-3.5998866466841495, 4.572632651584284]\n",
      "[-2.17017903999336, 4.010059217894188]\n",
      "[-3.5996759481353258, 0.15592625086268708]\n"
     ]
    }
   ],
   "source": [
    "random.shuffle(POPULATION)\n",
    "for i in range(5):\n",
    "    print(POPULATION[i])"
   ]
  },
  {
   "cell_type": "markdown",
   "metadata": {},
   "source": [
    "Now that we know points are generated within the right range, we can make a plotter to see their positions relative to the known global optima. For this tutorial, we're limiting it to two dimensions, as while the algorithm is dimensionality agnostic so far, we cannot easily visualize points in higher dimensional space."
   ]
  },
  {
   "cell_type": "code",
   "execution_count": 5,
   "metadata": {},
   "outputs": [
    {
     "data": {
      "image/png": "[encoded data removed]",
      "text/plain": [
       "<Figure size 432x288 with 1 Axes>"
      ]
     },
     "metadata": {
      "needs_background": "light"
     },
     "output_type": "display_data"
    },
    {
     "data": {
      "text/plain": [
       "<Figure size 432x288 with 0 Axes>"
      ]
     },
     "metadata": {},
     "output_type": "display_data"
    }
   ],
   "source": [
    "import matplotlib.pyplot as plt\n",
    "\n",
    "def plot_points(pop, opt):\n",
    "    x = [pop[i][0] for i in range(len(pop))]\n",
    "    y = [pop[i][1] for i in range(len(pop))]\n",
    "    plt.xlabel('x')\n",
    "    plt.ylabel('y')\n",
    "    plt.xlim(SEARCH_MIN, SEARCH_MAX)\n",
    "    plt.ylim(SEARCH_MIN, SEARCH_MAX)\n",
    "    plt.scatter(x, y, c='k', s=5, lw=1)\n",
    "    plt.scatter(opt[0], opt[1], c='r', marker='x', s=30, lw=1)\n",
    "    plt.show()\n",
    "    plt.clf()\n",
    "\n",
    "plot_points(POPULATION, OPTIMAL_POINT)"
   ]
  },
  {
   "cell_type": "markdown",
   "metadata": {},
   "source": [
    "Here we can see where each point lies within the search space as denoted by a black dot. The global optimum is denoted by a red 'x'. We'll use this plotting function a few more times to visualize how further iterations of the population will creep closer to the global optima.\n",
    "\n",
    "## Mating Pool Selection\n",
    "\n",
    "The way genetic algorithms work is they take the most fit individuals of a population and generate offspring from them. There's a careful balance needed here to maintain diversity in the population (so the algorithm does not stagnate to local minima) but also propagate the best fit individuals into next generations (so the algorithm does improve over time). To this end, elites are chosen as well as a tournament is conducted to determine which candidates in the population become parents for the next generation.\n",
    "\n",
    "The general idea of population evolving can be visualized below:\n",
    "\n",
    "<img src=\"./images/population_evolution.png\" width=\"70%\"/>\n",
    "\n",
    "Here, a population of twelve candidates is already sorted from most fit to worst fit (blue means more fit). Elites (yellow) are chosen which go into the new generation verbatim but also join the mating pool (purple). A tournament (green) is also conducted between a random subset of the population. The elites and the winner of the tournament go into the mating pool which go on to populate the remainder of the population (burgundy).\n",
    "\n",
    "First, the population is sorted by overall fitness and we output some of the most fit:"
   ]
  },
  {
   "cell_type": "code",
   "execution_count": 6,
   "metadata": {},
   "outputs": [
    {
     "name": "stdout",
     "output_type": "stream",
     "text": [
      "f(-3.019890079060248, -2.767717022657523) = -77.78440082190596\n",
      "f(-2.5751344472039452, -2.682484957694864) = -75.88397381459791\n",
      "f(-2.918401690697202, -3.335534953448258) = -74.61586946061304\n",
      "f(-2.339839613518105, -2.7860482494454866) = -73.59822035574551\n",
      "f(-2.4655077814720174, -2.5362451251149443) = -73.43027394094325\n"
     ]
    }
   ],
   "source": [
    "def print_five_best():\n",
    "    global POPULATION\n",
    "    POPULATION = sorted(POPULATION, key=styb_tang)\n",
    "    for i in range(5):\n",
    "        x, y = POPULATION[i][0], POPULATION[i][1]\n",
    "        print(f'f({x}, {y}) = {styb_tang(POPULATION[i])}')\n",
    "\n",
    "print_five_best()"
   ]
  },
  {
   "cell_type": "markdown",
   "metadata": {},
   "source": [
    "From this, a sample of the five best fit individuals in the population are printed. You'll see it is sorted in increasing order, the order we want as we wish to minimize the fitness function. We'll use the sorted population to find <i>elites</i> and a <i>tournament</i>.\n",
    "\n",
    "### Elite Selection\n",
    "\n",
    "In order to stop the population from regressing to a worse average fitness, we want to bring over some of the individuals in the current generation verbatim to the new generation. This means the best fit individual per generation can only improve or remain the same between generations. Without elite selection, the algorithm can regress to a worse fitness over time, the opposite of what we want. It's possible to evolve the population without elites and still maintain satisfactory results but it will converge to optima later if it does at all.\n",
    "\n",
    "As well, we want the parents for new offspring to be fit. If the mating pool were a collection of the best candidates (and others, you'll see soon), it makes sense to bring elites into the mating pool as well.\n",
    "\n",
    "Elite selection is simple: take the best `n%` of the population to bring forward into the mating pool and store for inserting into the new population:"
   ]
  },
  {
   "cell_type": "code",
   "execution_count": 7,
   "metadata": {},
   "outputs": [],
   "source": [
    "from math import ceil\n",
    "\n",
    "def elite_selection(population, percent):\n",
    "    \"\"\"Elite selection function.\n",
    "    Stores elites to bring into the next generation and mating pool.\n",
    "    \n",
    "    Parameters:\n",
    "        population : the population to take elites from.\n",
    "        percent : the proportion of the population to consider elites.\n",
    "    \n",
    "    Returns:\n",
    "        A list of elite solutions.\n",
    "    \"\"\"\n",
    "    elites = []\n",
    "    # grab percent% best individuals\n",
    "    for i in range(ceil(len(population)*percent)):\n",
    "        elites.append(population[i]) # and append to elites\n",
    "    return elites"
   ]
  },
  {
   "cell_type": "markdown",
   "metadata": {},
   "source": [
    "The percentage of elites should be empirically found but it should be relatively small, for example within `[1, 5]` percent. We'll use 5% for the sake of example:"
   ]
  },
  {
   "cell_type": "code",
   "execution_count": 8,
   "metadata": {},
   "outputs": [
    {
     "name": "stdout",
     "output_type": "stream",
     "text": [
      "[-3.019890079060248, -2.767717022657523]\n",
      "[-2.5751344472039452, -2.682484957694864]\n",
      "[-2.918401690697202, -3.335534953448258]\n",
      "[-2.339839613518105, -2.7860482494454866]\n",
      "[-2.4655077814720174, -2.5362451251149443]\n",
      "[-2.2982736319770156, -3.107246954138855]\n",
      "[-3.0987220559056827, -2.2231380361771977]\n",
      "[-2.6962499062805168, -3.4914529984177145]\n",
      "[-2.711135896043675, 2.7610293664556984]\n",
      "[-3.729243340681898, -2.854748762630923]\n"
     ]
    }
   ],
   "source": [
    "ELITES = elite_selection(POPULATION, 0.05)\n",
    "\n",
    "for elite in ELITES:\n",
    "    print(elite)"
   ]
  },
  {
   "cell_type": "markdown",
   "metadata": {},
   "source": [
    "We can verify the elites are around the global optima by plotting them:"
   ]
  },
  {
   "cell_type": "code",
   "execution_count": 9,
   "metadata": {},
   "outputs": [
    {
     "data": {
      "image/png": "[encoded data removed]",
      "text/plain": [
       "<Figure size 432x288 with 1 Axes>"
      ]
     },
     "metadata": {
      "needs_background": "light"
     },
     "output_type": "display_data"
    },
    {
     "data": {
      "text/plain": [
       "<Figure size 432x288 with 0 Axes>"
      ]
     },
     "metadata": {},
     "output_type": "display_data"
    }
   ],
   "source": [
    "plot_points(ELITES, OPTIMAL_POINT)"
   ]
  },
  {
   "cell_type": "markdown",
   "metadata": {},
   "source": [
    "From our population of 200 individuals, ten elites were chosen as the ten best fit individuals. These will be added to the mating pool, but we'll also add them to the new population verbatim.\n",
    "\n",
    "When selecting elites, you should remove them from the population, so the tournament selection doesn't \"double dip\" and we get solution reduplication. We also add the elites to the mating pool:"
   ]
  },
  {
   "cell_type": "code",
   "execution_count": 10,
   "metadata": {},
   "outputs": [],
   "source": [
    "del POPULATION[:len(ELITES)]\n",
    "\n",
    "MATING_POOL = []\n",
    "MATING_POOL.extend(ELITES)"
   ]
  },
  {
   "cell_type": "markdown",
   "metadata": {},
   "source": [
    "### Tournament Selection\n",
    "\n",
    "Imagine a scenario where there were no individuals with a relatively close fitness to optima: for example, if the most fit individuals were very far from optima. When the new population is initialized based on the mating pool, the algorithm may get stuck in that area and not converge to a better solution. Likewise, if you were to have a mating pool only consisting of the same individual (reduplication), the algorithm no longer improves. \n",
    "\n",
    "Tournaments allow a random selection of remaining individuals in the population to compete to enter the mating pool. Even if this selection is not the most fit, sometimes you need fewer fit individuals to help the overall population by introducing diversity. Like elite selection, a proportion of the population is chosen to enter a tournament, and the most fit individual from this tournament enters the mating pool. The tournament is, however, initialized from random individuals from the population. And like elite selection, the percent of individuals who enter the tournament should be empirically found but we'll use 2%:"
   ]
  },
  {
   "cell_type": "code",
   "execution_count": 11,
   "metadata": {},
   "outputs": [],
   "source": [
    "def tournament_selection(population, percent):\n",
    "    \"\"\"Tournament selection function.\n",
    "    Creates a tournament of random individuals and returns the best.\n",
    "    \n",
    "    Parameters:\n",
    "        population : the population to take tournament from.\n",
    "        percent : the proportion of the population who enters the tournament.\n",
    "    \n",
    "    Returns:\n",
    "        Best fit individual from tournament.\n",
    "    \"\"\"\n",
    "    tournament = []\n",
    "    # grab percent% random individuals\n",
    "    for i in range(ceil(len(population)*percent)):\n",
    "        random_idx = random.randint(0, len(population)-1)\n",
    "        tournament.append(population.pop(random_idx)) # append to tournament\n",
    "    tournament = sorted(tournament, key=styb_tang) # sort by fitness\n",
    "    return tournament[0] # return best fit from tournament\n",
    "\n",
    "TOURNAMENT = tournament_selection(POPULATION, 0.02)\n",
    "\n",
    "MATING_POOL.append(TOURNAMENT)"
   ]
  },
  {
   "cell_type": "markdown",
   "metadata": {},
   "source": [
    "Now we can add this to our plot of the mating pool:"
   ]
  },
  {
   "cell_type": "code",
   "execution_count": 12,
   "metadata": {},
   "outputs": [
    {
     "data": {
      "image/png": "[encoded data removed]",
      "text/plain": [
       "<Figure size 432x288 with 1 Axes>"
      ]
     },
     "metadata": {
      "needs_background": "light"
     },
     "output_type": "display_data"
    },
    {
     "data": {
      "text/plain": [
       "<Figure size 432x288 with 0 Axes>"
      ]
     },
     "metadata": {},
     "output_type": "display_data"
    }
   ],
   "source": [
    "plot_points(MATING_POOL, OPTIMAL_POINT)"
   ]
  },
  {
   "cell_type": "markdown",
   "metadata": {},
   "source": [
    "Now we have our mating pool and can begin generating offspring for new generations.\n",
    "\n",
    "## Evolving the Population\n",
    "\n",
    "The purpose of using genetic algorithms is to mimic biological evolution. We want to evolve the population to a more fit population. To achieve this, we need to generate a new population after the initial population which takes after the mating pool. We'll take a cue from biology and implement two genetic operators: <i>crossover</i> and <i>mutation</i>.\n",
    "\n",
    "### Crossover\n",
    "\n",
    "Similar to two parents producing offspring which is a combination of both parents, crossover is a genetic operator which does much the same. Given two individuals from the mating pool, we'll create offspring based on the genes of each. It is not as interesting with two-dimensional data, so here is an illustration for a larger dimensional example:\n",
    "\n",
    "<img src=\"./images/crossover.png\"/>\n",
    "\n",
    "In this we have two parent chromosomes (top and bottom) consisting of six genes each, with a child chromosome (middle). The child consists of four genes from the first parent and two genes from the second. This is the crux of crossover. Crossover does produce two children per run but only one is shown here for illustration. The second child instead takes the opposite genes to the first child.\n",
    "\n",
    "There are a few crossover operators such as one-point, two-point, and uniform. For our purposes, I'll use one-point, but it will be implemented to be general to higher dimensional data. One-point crossover uses a single pivot point in the chromosome where genes prior to the pivot come from the first parent and genes after the pivot come from the next.\n",
    "\n",
    "Crossover is not a 100% possibility, or generally doesn't need to be. A crossover rate determines how frequent the crossover operator is used, and if it is not to be used, the parents are returned as children verbatim."
   ]
  },
  {
   "cell_type": "code",
   "execution_count": 13,
   "metadata": {},
   "outputs": [],
   "source": [
    "CROSS_RATE = 1.00 # chosen for illustrative purposes\n",
    "\n",
    "def crossover(parent_a, parent_b):\n",
    "    \"\"\"One-point crossover operator.\n",
    "    \n",
    "    Parameters:\n",
    "        parent_a : the first parent.\n",
    "        parent_b : the second parent.\n",
    "    \n",
    "    Returns:\n",
    "        Two child chromosomes as a product of both parents.\n",
    "    \"\"\"\n",
    "    # only perform crossover based on the crossover rate\n",
    "    if random.uniform(0.00, 1.00) >= CROSS_RATE:\n",
    "        return parent_a, parent_b\n",
    "    child_a, child_b = [], []\n",
    "    # find a pivot point at random\n",
    "    pivot = random.randint(1, len(parent_a)-1)\n",
    "    for i in range(0, len(parent_a)):\n",
    "        # before pivot, use genes from one parent\n",
    "        if i < pivot:\n",
    "            child_a.append(parent_a[i])\n",
    "            child_b.append(parent_b[i])\n",
    "        # after pivot, use genes from second parent\n",
    "        else:\n",
    "            child_a.append(parent_b[i])\n",
    "            child_b.append(parent_a[i])\n",
    "    return child_a, child_b"
   ]
  },
  {
   "cell_type": "markdown",
   "metadata": {},
   "source": [
    "To illustrate, we'll use points of five dimensions:"
   ]
  },
  {
   "cell_type": "code",
   "execution_count": 14,
   "metadata": {},
   "outputs": [
    {
     "name": "stdout",
     "output_type": "stream",
     "text": [
      "Parents:\n",
      "[-3.79099080057129, 0.6618158230479789, -4.7170009726824915, -2.1022754682625377, 3.636175856148137]\n",
      "[2.335672419661069, -0.15818744094496395, -1.900648907457736, 3.26030491592946, -4.262865517505695]\n",
      "\n",
      "Children:\n",
      "[-3.79099080057129, 0.6618158230479789, -1.900648907457736, 3.26030491592946, -4.262865517505695]\n",
      "[2.335672419661069, -0.15818744094496395, -4.7170009726824915, -2.1022754682625377, 3.636175856148137]\n"
     ]
    }
   ],
   "source": [
    "PARENT_A = [random.uniform(SEARCH_MIN, SEARCH_MAX) for _ in range(5)]\n",
    "PARENT_B = [random.uniform(SEARCH_MIN, SEARCH_MAX) for _ in range(5)]\n",
    "\n",
    "print(\"Parents:\")\n",
    "print(PARENT_A)\n",
    "print(PARENT_B)\n",
    "\n",
    "CHILD_A, CHILD_B = crossover(PARENT_A, PARENT_B)\n",
    "\n",
    "print(\"\\nChildren:\")\n",
    "print(CHILD_A)\n",
    "print(CHILD_B)"
   ]
  },
  {
   "cell_type": "markdown",
   "metadata": {},
   "source": [
    "The pivot was randomly chosen as the position after the second gene: each child has genes equal to one parent for genes `0..2` and the other parent for genes `3..5`. These results would not be as exciting with our ongoing two-dimensional problem as the pivot will always be chosen between the first and second genes. At least here you can conceptualize the idea of a pivot.\n",
    "\n",
    "This entire process generates children which are partially one parent and partially another. When we initialize our new population based on this operator, the new population will be like the mating pool as this is where each parent comes from.\n",
    "\n",
    "### Mutation\n",
    "\n",
    "There is another genetic operator to consider: mutation. Mutation reintroduces diversity into the system by randomizing genes based on the search space. In other words, genes will become randomized in mutation yet still be solutions within the search space. Another visualization is below:\n",
    "\n",
    "<img src=\"./images/mutation.png\"/>\n",
    "\n",
    "In this, a chromosome had its 3rd and 6th gene mutated as denoted by a green arrow. The other genes were untouched during mutation.\n",
    "\n",
    "Like crossover, mutation does not happen all the time and is based on a mutation rate. The difference, however, is this chance is on a per-gene basis. The mutation is not completely random over the entire search space: instead, we want the mutation to be not too diverse, so we cap a 50% radius range around the point such that mutation doesn't bring the point too far from where it was initially. \n",
    "\n",
    "Implementation of mutation is simple:"
   ]
  },
  {
   "cell_type": "code",
   "execution_count": 15,
   "metadata": {},
   "outputs": [],
   "source": [
    "MUTAT_RATE = 0.50 # chosen for illustrative purposes\n",
    "\n",
    "def mutation(child, s_min, s_max):\n",
    "    \"\"\"Mutation operator.\n",
    "    \n",
    "    Parameters:\n",
    "        child : the chromosome to mutate.\n",
    "        s_min : the lower bound for mutation.\n",
    "        s_max : the upper bound for mutation.\n",
    "    \n",
    "    Returns:\n",
    "        A mutated child.\n",
    "    \"\"\"\n",
    "    for i in range(len(child)):\n",
    "        # only perform mutation based on the mutation rate\n",
    "        if random.uniform(0.00, 1.00) <= MUTAT_RATE:\n",
    "            # find a random distance within 50% radius\n",
    "            diff = random.uniform(s_min*0.5, s_max*0.5)\n",
    "            # update the child axes with that distance\n",
    "            child[i] += diff\n",
    "            # the position is now randomized but still relatively close\n",
    "            # if it's outside the search space, clamp it to within\n",
    "            child[i] = max(child[i], s_min)\n",
    "            child[i] = min(child[i], s_max)\n",
    "    return child"
   ]
  },
  {
   "cell_type": "markdown",
   "metadata": {},
   "source": [
    "To illustrate, we'll continue using the ongoing example of five-dimensional points:"
   ]
  },
  {
   "cell_type": "code",
   "execution_count": 16,
   "metadata": {},
   "outputs": [
    {
     "name": "stdout",
     "output_type": "stream",
     "text": [
      "Before mutation:\n",
      "[-3.79099080057129, 0.6618158230479789, -1.900648907457736, 3.26030491592946, -4.262865517505695]\n",
      "\n",
      "After mutation:\n",
      "[-1.949495393391377, 0.6618158230479789, -2.677826308807843, 3.138499818346105, -2.216511152631578]\n"
     ]
    }
   ],
   "source": [
    "print(\"Before mutation:\")\n",
    "print(CHILD_A)\n",
    "\n",
    "CHILD_A = mutation(CHILD_A, SEARCH_MIN, SEARCH_MAX)\n",
    "\n",
    "print(\"\\nAfter mutation:\")\n",
    "print(CHILD_A)"
   ]
  },
  {
   "cell_type": "markdown",
   "metadata": {},
   "source": [
    "You'll see all but the second gene was randomized while the second was untouched. Using mutation, when the next generation's population is to be initialized, this ensures there's some diversity in the mating pool. Mutation <i>can</i> help less fit children become more fit but in general it is used for diversity purposes.\n",
    "\n",
    "## New Population Initialization\n",
    "\n",
    "Now we're ready to begin the evolution process. We'll make a driver for the evolution step using the current example and current mating pool. To evolve the population, we need to select two random parents from the mating pool, perform the genetic operators to create children, and then create a new population.\n",
    "\n",
    "Previously we also decided a crossover and mutation rate, but these are inappropriate choices and were just used for illustrative purposes. A better range for crossover rate is `[80, 100]` and mutation rate is `[1, 10]`. These were found with some experimentation and its problem specific.\n",
    "\n",
    "The evolution algorithm is below:"
   ]
  },
  {
   "cell_type": "code",
   "execution_count": 17,
   "metadata": {},
   "outputs": [],
   "source": [
    "CROSS_RATE = 0.95\n",
    "MUTAT_RATE = 0.05\n",
    "\n",
    "def evolve(mating_pool, elites):\n",
    "    \"\"\"Evolves population based on genetic operators.\n",
    "    \n",
    "    Parameters:\n",
    "        mating_pool : where to select parents from.\n",
    "        elites : previously found elites.\n",
    "    \n",
    "    Returns:\n",
    "        A new population of offspring from mating pool.\n",
    "    \"\"\"\n",
    "    new_population = [] # store new population as list\n",
    "    new_population.extend(elites) # add elites verbatim\n",
    "    while len(new_population) < POP_SIZE: # while population isn't at max size\n",
    "        # get both parents indices\n",
    "        p_a_idx = random.randrange(len(mating_pool))\n",
    "        p_b_idx = random.randrange(len(mating_pool))\n",
    "        # we don't mind parents have identical genes but we don't\n",
    "        # want the parents to use the same index. Parent A can be\n",
    "        # equal to Parent B, but Parent A cannot be Parent B\n",
    "        if p_a_idx == p_b_idx:\n",
    "            continue\n",
    "        # get the parents from indices\n",
    "        parent_a = mating_pool[p_a_idx]\n",
    "        parent_b = mating_pool[p_b_idx]\n",
    "        # find children using crossover\n",
    "        child_a, child_b = crossover(parent_a, parent_b)\n",
    "        # mutate each child\n",
    "        child_a = mutation(child_a, SEARCH_MIN, SEARCH_MAX)\n",
    "        child_b = mutation(child_b, SEARCH_MIN, SEARCH_MAX)\n",
    "        # add children to population\n",
    "        new_population.append(child_a)\n",
    "        new_population.append(child_b)\n",
    "    return new_population"
   ]
  },
  {
   "cell_type": "markdown",
   "metadata": {},
   "source": [
    "We can test this and use a plot to visualize where points now lay within the population:"
   ]
  },
  {
   "cell_type": "code",
   "execution_count": 18,
   "metadata": {},
   "outputs": [
    {
     "data": {
      "image/png": "[encoded data removed]",
      "text/plain": [
       "<Figure size 432x288 with 1 Axes>"
      ]
     },
     "metadata": {
      "needs_background": "light"
     },
     "output_type": "display_data"
    },
    {
     "data": {
      "text/plain": [
       "<Figure size 432x288 with 0 Axes>"
      ]
     },
     "metadata": {},
     "output_type": "display_data"
    }
   ],
   "source": [
    "POPULATION = evolve(MATING_POOL, ELITES)\n",
    "\n",
    "plot_points(POPULATION, OPTIMAL_POINT)"
   ]
  },
  {
   "cell_type": "markdown",
   "metadata": {},
   "source": [
    "We see a lot of candidates around the optima. But what would be real exciting is to get most of the population around that point and to verify successive calls of our evolution algorithm proves fruitful in finding the fitness minimum. First, however, we should define a way to gauge best and overall fitness of the population:"
   ]
  },
  {
   "cell_type": "code",
   "execution_count": 19,
   "metadata": {},
   "outputs": [],
   "source": [
    "def get_pop_fitness(population, function):\n",
    "    population = sorted(population, key=function)\n",
    "    best_fitness = function(population[0])\n",
    "    avg_fitness = 0\n",
    "    for candidate in population:\n",
    "        avg_fitness += function(candidate)\n",
    "    return best_fitness, avg_fitness/len(population)"
   ]
  },
  {
   "cell_type": "markdown",
   "metadata": {},
   "source": [
    "This will allow us to see not only the best and average fits of our population but also see it over time as the population evolves.\n",
    "\n",
    "## Main Driver\n",
    "\n",
    "We should combine everything we've done so far into one main driver which will perform selection and evolution repeatedly, output the best and average fitness per epoch, and then finally outputting what the final plot looks like."
   ]
  },
  {
   "cell_type": "code",
   "execution_count": 20,
   "metadata": {},
   "outputs": [
    {
     "name": "stdout",
     "output_type": "stream",
     "text": [
      "Epoch 0, Best = -74.73671853571685, Avg = -6.140693367742695\n",
      "Epoch 1, Best = -74.73671853571685, Avg = -52.82131870367969\n",
      "Epoch 2, Best = -78.04540001481108, Avg = -71.03547658391498\n",
      "Epoch 3, Best = -78.04540001481108, Avg = -63.918572574021745\n",
      "Epoch 4, Best = -78.04540001481108, Avg = -68.72078197737048\n",
      "Epoch 5, Best = -78.19304930913059, Avg = -75.37108087828716\n",
      "Epoch 6, Best = -78.31067920529772, Avg = -74.14504417186374\n",
      "Epoch 7, Best = -78.31067920529772, Avg = -66.04377582759469\n",
      "Epoch 8, Best = -78.31067920529772, Avg = -65.01063142634493\n",
      "Epoch 9, Best = -78.31067920529772, Avg = -74.46733637764939\n",
      "Epoch 10, Best = -78.31067920529772, Avg = -52.27307338123222\n"
     ]
    },
    {
     "data": {
      "image/png": "[encoded data removed]",
      "text/plain": [
       "<Figure size 432x288 with 1 Axes>"
      ]
     },
     "metadata": {
      "needs_background": "light"
     },
     "output_type": "display_data"
    },
    {
     "name": "stdout",
     "output_type": "stream",
     "text": [
      "The minimum for the fitness function was found to be -78.31.\n"
     ]
    },
    {
     "data": {
      "text/plain": [
       "<Figure size 432x288 with 0 Axes>"
      ]
     },
     "metadata": {},
     "output_type": "display_data"
    }
   ],
   "source": [
    "ELITE_PROPORTION = 0.01\n",
    "TOURN_PROPORTION = 0.02\n",
    "EPOCHS = 10\n",
    "\n",
    "def genetic_algorithm(el_p, to_p, dim, epochs, function):\n",
    "    \"\"\"Genetic algorithm driver.\n",
    "    Initializes the population and evolves it over time.\n",
    "    \n",
    "    Parameters:\n",
    "        el_p : the proportion of elites for elite selection.\n",
    "        to_p : the proportion of tournament entrants for tournament selection.\n",
    "        dim : dimensionality of the problem.\n",
    "        epochs : how many iterations of the evolution algorithm to perform.\n",
    "        function : the fitness function to evolve from.\n",
    "    \"\"\"\n",
    "    # initially the population is random\n",
    "    population = initialize_population(POP_SIZE, dim, SEARCH_MIN, SEARCH_MAX)\n",
    "    # output initial best and avg fitnesses\n",
    "    initial_best, initial_avg = get_pop_fitness(population, function)\n",
    "    print_stats(0, initial_best, initial_avg)\n",
    "    for e in range(1, epochs+1): # for each iteration\n",
    "        population = sorted(population, key=function) # sort by fitness\n",
    "        mating_pool = [] # init empty mating pool\n",
    "        # select elites based on best fitness in population\n",
    "        elites = elite_selection(population, el_p)\n",
    "        # select tournament winner from random candidates\n",
    "        t_winner = tournament_selection(population, to_p)\n",
    "        # add the elites to the mating pool\n",
    "        mating_pool.extend(elites)\n",
    "        # add the tournament winner to the mating pool\n",
    "        mating_pool.append(t_winner)\n",
    "        # evole the population based on parents and genetic operators\n",
    "        population = evolve(mating_pool, elites)\n",
    "        mating_pool.clear() # erase the mating pool for next generation\n",
    "        # output best and avg fitnesses for this generation\n",
    "        best_fit, avg_fit = get_pop_fitness(population, function)\n",
    "        print_stats(e, best_fit, avg_fit)\n",
    "    # plot the final points\n",
    "    plot_points(population, OPTIMAL_POINT)\n",
    "    # sort population by fitness again\n",
    "    population = sorted(population, key=function)\n",
    "    # return the best fitness after the entire genetic algorithm\n",
    "    return function(population[0])\n",
    "        \n",
    "def print_stats(epoch, best, avg):\n",
    "    print(f'Epoch {epoch}, Best = {best}, Avg = {avg}')\n",
    "\n",
    "best = genetic_algorithm(ELITE_PROPORTION, TOURN_PROPORTION, DIMENSIONS, EPOCHS, styb_tang)\n",
    "print(f'The minimum for the fitness function was found to be {best:.2f}.')"
   ]
  },
  {
   "cell_type": "markdown",
   "metadata": {},
   "source": [
    "We can see after only a few epochs, the best fitness comes very close to optimal and the average fitness increases dramatically after the first epoch and then fluctuates but still relatively close to the population best.\n",
    "\n",
    "Just to verify for higher dimensionality because two is trivial, I've scaled it up and output the best in population fitness, average in population fitness, and consider the distance from target (i.e. how close it was to reaching the global optimum)."
   ]
  },
  {
   "cell_type": "code",
   "execution_count": 21,
   "metadata": {},
   "outputs": [
    {
     "name": "stdout",
     "output_type": "stream",
     "text": [
      "5 dimensions:\n",
      "Found: -195.83, Expected: -195.83, How Close: 100.00%\n",
      "\n",
      "15 dimensions:\n",
      "Found: -587.48, Expected: -587.49, How Close: 100.00%\n",
      "\n",
      "25 dimensions:\n",
      "Found: -908.28, Expected: -979.15, How Close: 92.76%\n",
      "\n",
      "35 dimensions:\n",
      "Found: -1167.69, Expected: -1370.82, How Close: 85.18%\n",
      "\n",
      "45 dimensions:\n",
      "Found: -1488.01, Expected: -1762.48, How Close: 84.43%\n",
      "\n",
      "55 dimensions:\n",
      "Found: -1852.75, Expected: -2154.14, How Close: 86.01%\n",
      "\n"
     ]
    }
   ],
   "source": [
    "for i in range(5, 55+1, 10):\n",
    "    expected = styb_tang([-2.903534 for _ in range(i)])\n",
    "    found = genetic_algorithm(ELITE_PROPORTION, TOURN_PROPORTION, i, 1000, styb_tang)\n",
    "    perc_there = f'{(found/expected):.2%}'\n",
    "    print(f'{i} dimensions:')\n",
    "    print(f'Found: {found:.2f}, Expected: {expected:.2f}, How Close: {perc_there}\\n')"
   ]
  },
  {
   "cell_type": "markdown",
   "metadata": {},
   "source": [
    "As above, if incorrect, it is still within the realm of correct. This is because as the problem size increases, more epochs are needed, or the genetic algorithm parameters may need to change. Parameters that work for a small problem may not scale up to a larger problem.\n",
    "\n",
    "Since a graph of closeness to target over time for two dimensions may not show much considering how quickly it converges, I've made a graph in 55 dimensions using a population size of 500 and over 100 epochs. Otherwise the parameters remain the same.\n",
    "\n",
    "<img width=\"432px\" src=\"./images/plot_over_time.png\"/>\n",
    "\n",
    "This shows the population best (green) and population average (blue) over time. Note the population best increases or remains the same with each generation whereas the population average does fluctuate (although the trend remains improving). This is due to mutation making the population on average more diverse and thus fitness fluctuates.\n",
    "\n",
    "Lastly, here's a full runthrough of the algorithm with original conditions in two dimensions for ten epochs:\n",
    "\n",
    "<img width=\"432px\" src=\"./images/animation.gif\"/>\n",
    "\n",
    "You can see the population does shrink around the global optimum which is the expected result.\n",
    "\n",
    "Other than that, this wraps up my genetic algorithm tutorial.\n",
    "\n",
    "## Final Thoughts\n",
    "\n",
    "Genetic algorithms are optimization algorithms which can help you find global optima in each fitness function provided you also know its search space. While this tutorial used a very trivial application of minimizing a mathematical function, more abstract fitness functions can be used in place, like optimizing neural network weights in lieu of backpropagation, finding optimal particle swarm parameters, among others.\n",
    "\n",
    "While trivial, I hope this informs people on how genetic algorithms work in one way and how the common genetic operators are used. There are still other aspects to consider, like other crossover operators (Two-Point, Uniform are common), and scheduled mutation (where the rate changes based on the acceleration of the algorithm). Ever other selection strategies for tournaments or elites can be useful to experiment with.\n",
    "\n",
    "## Finished Code\n",
    "\n",
    "Here is the full uncommented code:"
   ]
  },
  {
   "cell_type": "code",
   "execution_count": null,
   "metadata": {},
   "outputs": [],
   "source": [
    "#!/usr/bin/env python3\n",
    "\n",
    "from math import ceil\n",
    "import random\n",
    "\n",
    "def genetic_algorithm(el_p, to_p, dim, epochs, function):\n",
    "    population = initialize_population(POP_SIZE, dim, SEARCH_MIN, SEARCH_MAX)\n",
    "    for e in range(1, epochs+1):\n",
    "        population = sorted(population, key=function)\n",
    "        mating_pool = []\n",
    "        elites = elite_selection(population, el_p)\n",
    "        del population[:len(elites)]\n",
    "        t_winner = tournament_selection(population, to_p)\n",
    "        mating_pool.extend(elites)\n",
    "        mating_pool.append(t_winner)\n",
    "        population = evolve(mating_pool, elites)\n",
    "        mating_pool.clear()\n",
    "    population = sorted(population, key=function)\n",
    "    best_fitness = function(population[0])\n",
    "    print(f'Best minimum found was {best_fitness:.2f}.')\n",
    "\n",
    "def evolve(mating_pool, elites):\n",
    "    new_population = []\n",
    "    new_population.extend(elites)\n",
    "    while len(new_population) < POP_SIZE:\n",
    "        p_a_idx = random.randrange(len(mating_pool))\n",
    "        p_b_idx = random.randrange(len(mating_pool))\n",
    "        if p_a_idx == p_b_idx:\n",
    "            continue\n",
    "        parent_a = mating_pool[p_a_idx]\n",
    "        parent_b = mating_pool[p_b_idx]\n",
    "        child_a, child_b = crossover(parent_a, parent_b)\n",
    "        child_a = mutation(child_a, SEARCH_MIN, SEARCH_MAX)\n",
    "        child_b = mutation(child_b, SEARCH_MIN, SEARCH_MAX)\n",
    "        new_population.append(child_a)\n",
    "        new_population.append(child_b)\n",
    "    return new_population\n",
    "\n",
    "def crossover(parent_a, parent_b):\n",
    "    if random.uniform(0.00, 1.00) >= CROSS_RATE:\n",
    "        return parent_a, parent_b\n",
    "    child_a, child_b = [], []\n",
    "    pivot = random.randint(1, len(parent_a)-1)\n",
    "    for i in range(0, len(parent_a)):\n",
    "        if i < pivot:\n",
    "            child_a.append(parent_a[i])\n",
    "            child_b.append(parent_b[i])\n",
    "        else:\n",
    "            child_a.append(parent_b[i])\n",
    "            child_b.append(parent_a[i])\n",
    "    return child_a, child_b\n",
    "\n",
    "def mutation(child, s_min, s_max):\n",
    "    for i in range(len(child)):\n",
    "        if random.uniform(0.00, 1.00) <= MUTAT_RATE:\n",
    "            diff = random.uniform(s_min*0.5, s_max*0.5)\n",
    "            child[i] += diff\n",
    "            child[i] = max(child[i], s_min)\n",
    "            child[i] = min(child[i], s_max)\n",
    "    return child\n",
    "\n",
    "def elite_selection(population, percent):\n",
    "    elites = []\n",
    "    for i in range(ceil(len(population)*percent)):\n",
    "        elites.append(population[i])\n",
    "    return elites\n",
    "\n",
    "def tournament_selection(population, percent):\n",
    "    tournament = []\n",
    "    for i in range(ceil(len(population)*percent)):\n",
    "        random_idx = random.randint(0, len(population)-1)\n",
    "        tournament.append(population.pop(random_idx))\n",
    "    tournament = sorted(tournament, key=styb_tang)\n",
    "    return tournament[0]\n",
    "\n",
    "def styb_tang(point):\n",
    "    summ = 0\n",
    "    for d in point:\n",
    "        summ += d**4 - (16 * d**2) + (5 * d)\n",
    "    return (1 / 2) * summ\n",
    "\n",
    "def initialize_population(size, dim, min, max):\n",
    "    population = []\n",
    "    for _ in range(size):\n",
    "        point = []\n",
    "        for _ in range(dim):\n",
    "            point.append(random.uniform(min, max))\n",
    "        population.append(point)\n",
    "    return population\n",
    "\n",
    "if __name__ == '__main__':\n",
    "    SEARCH_MIN, SEARCH_MAX = -5.00, 5.00\n",
    "    DIMENSIONS = 2\n",
    "    POP_SIZE = 200\n",
    "    ELITE_PROPORTION = 0.01\n",
    "    TOURN_PROPORTION = 0.02\n",
    "    EPOCHS = 10\n",
    "    CROSS_RATE, MUTAT_RATE = 0.95, 0.05\n",
    "    genetic_algorithm(ELITE_PROPORTION, TOURN_PROPORTION, DIMENSIONS, \\\n",
    "        EPOCHS, styb_tang)"
   ]
  },
  {
   "cell_type": "markdown",
   "metadata": {},
   "source": [
    "You may wish to catch for errors (as I have done none here), and perhaps accept some of the parameters as command line arguments. This code, as-is, should run in a terminal but allows for zero customization unless you change the code manually. Some parameters might include mutation and crossover rates, population size, how many epochs, etc.\n",
    "\n",
    "You can save this code as `genetic_algorithm.py` and execute it as one of the below:\n",
    "\n",
    "```\n",
    "$ python3 genetic_algorithm.py\n",
    "$ ./genetic_algorithm.py\n",
    "```\n",
    "\n",
    "You can also find the code in `./code`. For a Java implementation I did for string decryption, you can see <a href=\"https://github.com/stratzilla/genetic-decryption\">here</a>."
   ]
  }
 ],
 "metadata": {
  "kernelspec": {
   "display_name": "Python 3",
   "language": "python",
   "name": "python3"
  },
  "language_info": {
   "codemirror_mode": {
    "name": "ipython",
    "version": 3
   },
   "file_extension": ".py",
   "mimetype": "text/x-python",
   "name": "python",
   "nbconvert_exporter": "python",
   "pygments_lexer": "ipython3",
   "version": "3.6.9"
  }
 },
 "nbformat": 4,
 "nbformat_minor": 4
}
